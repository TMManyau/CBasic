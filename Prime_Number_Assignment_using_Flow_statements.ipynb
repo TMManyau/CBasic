{
  "nbformat": 4,
  "nbformat_minor": 0,
  "metadata": {
    "colab": {
      "name": "Prime Number Assignment using Flow statements.ipynb",
      "provenance": [],
      "authorship_tag": "ABX9TyPkA2b3bZ4Cgl7JJQEsWPbh",
      "include_colab_link": true
    },
    "kernelspec": {
      "name": "python3",
      "display_name": "Python 3"
    },
    "language_info": {
      "name": "python"
    }
  },
  "cells": [
    {
      "cell_type": "markdown",
      "metadata": {
        "id": "view-in-github",
        "colab_type": "text"
      },
      "source": [
        "<a href=\"https://colab.research.google.com/github/TMManyau/CBasic/blob/master/Prime_Number_Assignment_using_Flow_statements.ipynb\" target=\"_parent\"><img src=\"https://colab.research.google.com/assets/colab-badge.svg\" alt=\"Open In Colab\"/></a>"
      ]
    },
    {
      "cell_type": "code",
      "source": [
        "num = int(input(\"Please Enter a number: \"))\n",
        "\n",
        "if num > 0:\n",
        "    if num%2 >= 1:\n",
        "        print({num}, 'is a prime number')\n",
        "    else:\n",
        "        print({num}, 'is not a prime number ')\n",
        "else:\n",
        "    print()\n"
      ],
      "metadata": {
        "colab": {
          "base_uri": "https://localhost:8080/"
        },
        "outputId": "4b191023-a217-4ae6-e563-30318d1815bc",
        "id": "h8wtsHgl_aR3"
      },
      "execution_count": null,
      "outputs": [
        {
          "output_type": "stream",
          "name": "stdout",
          "text": [
            "Please Enter a number: 7\n",
            "{7} is a prime number\n"
          ]
        }
      ]
    }
  ]
}