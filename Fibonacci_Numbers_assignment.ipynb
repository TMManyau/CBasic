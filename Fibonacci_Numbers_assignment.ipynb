{
  "nbformat": 4,
  "nbformat_minor": 0,
  "metadata": {
    "colab": {
      "name": "Fibonacci Numbers assignment.ipynb",
      "provenance": [],
      "authorship_tag": "ABX9TyPTB9putEoh00CJarXqW2b+",
      "include_colab_link": true
    },
    "kernelspec": {
      "name": "python3",
      "display_name": "Python 3"
    },
    "language_info": {
      "name": "python"
    }
  },
  "cells": [
    {
      "cell_type": "markdown",
      "metadata": {
        "id": "view-in-github",
        "colab_type": "text"
      },
      "source": [
        "<a href=\"https://colab.research.google.com/github/TMManyau/CBasic/blob/master/Fibonacci_Numbers_assignment.ipynb\" target=\"_parent\"><img src=\"https://colab.research.google.com/assets/colab-badge.svg\" alt=\"Open In Colab\"/></a>"
      ]
    },
    {
      "cell_type": "code",
      "execution_count": 3,
      "metadata": {
        "colab": {
          "base_uri": "https://localhost:8080/"
        },
        "id": "YqrhU8gUtQjr",
        "outputId": "5fcef00a-4960-4da1-8cf0-ba51accdf5c3"
      },
      "outputs": [
        {
          "output_type": "stream",
          "name": "stdout",
          "text": [
            "[1, 1, 2, 3, 5, 8, 13, 21, 34, 55]\n"
          ]
        }
      ],
      "source": [
        "fib_list = range(56)\n",
        "a, b = 1, 1\n",
        "fib_list = []\n",
        "while a <= 55:\n",
        "    fib_list.append(a)\n",
        "    a, b = b, a + b\n",
        "print(fib_list)"
      ]
    }
  ]
}