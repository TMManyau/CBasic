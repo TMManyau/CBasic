{
  "nbformat": 4,
  "nbformat_minor": 0,
  "metadata": {
    "colab": {
      "name": "Assignment Submission 2/19/2022.ipynb",
      "provenance": [],
      "authorship_tag": "ABX9TyPeUnz4Q+e+g3wfapPYgMLL",
      "include_colab_link": true
    },
    "kernelspec": {
      "name": "python3",
      "display_name": "Python 3"
    },
    "language_info": {
      "name": "python"
    }
  },
  "cells": [
    {
      "cell_type": "markdown",
      "metadata": {
        "id": "view-in-github",
        "colab_type": "text"
      },
      "source": [
        "<a href=\"https://colab.research.google.com/github/TMManyau/CBasic/blob/master/Assignment_Submission_2_19_2022.ipynb\" target=\"_parent\"><img src=\"https://colab.research.google.com/assets/colab-badge.svg\" alt=\"Open In Colab\"/></a>"
      ]
    },
    {
      "cell_type": "code",
      "execution_count": null,
      "metadata": {
        "id": "nBjGH5FeI3kk"
      },
      "outputs": [],
      "source": [
        ""
      ]
    },
    {
      "cell_type": "code",
      "source": [
        "login_info = ('Tino')\n",
        "stored_name = login_info\n",
        "entered_name = input(str())\n",
        "if stored_name == entered_name:\n",
        "    print(f\"Hello, {stored_name} The password is : W@12'\")\n",
        "else:\n",
        "    print(f\"Hello, {entered_name}! See you later.\")"
      ],
      "metadata": {
        "colab": {
          "base_uri": "https://localhost:8080/"
        },
        "outputId": "0c2f88a1-6201-4165-d6c2-629a4dc14798",
        "id": "XSNVdU1y1-f2"
      },
      "execution_count": 1,
      "outputs": [
        {
          "output_type": "stream",
          "name": "stdout",
          "text": [
            "Tino\n",
            "Hello, Tino The password is : W@12'\n"
          ]
        }
      ]
    },
    {
      "cell_type": "code",
      "source": [
        "age = input(int())\n",
        "chronic = input(str(\"Do you have a chronic condition?\"))\n",
        "immune = input(str(\"Is your immune system weak?\"))\n",
        "if (age == 75, chronic == True, immune == True):\n",
        "        print(f\"\\33 You are in risky group\")\n",
        "else:\n",
        "        print(f\"\\33 You are not in risky group\")\n",
        "\n",
        "\n"
      ],
      "metadata": {
        "colab": {
          "base_uri": "https://localhost:8080/"
        },
        "id": "nb6uk20jQjqu",
        "outputId": "0dbcc267-0892-4bb1-b23e-80a3123b72e5"
      },
      "execution_count": 28,
      "outputs": [
        {
          "output_type": "stream",
          "name": "stdout",
          "text": [
            "75\n",
            "Do you have a chronic condition?Yes\n",
            "Is your immune system weak?No\n",
            "\u001b You are in risky group\n"
          ]
        }
      ]
    },
    {
      "cell_type": "code",
      "source": [
        "age = input(int())\n",
        "chronic = input(str(\"Do you have a chronic condition?\"))\n",
        "immune = input(str(\"Is your immune system weak?\"))\n",
        "if (age == 75, chronic == True, immune ==True):\n",
        "        print(f\"\\33 You are in risky group\")\n",
        "else:\n",
        "        print(f\"\\33 You are not in risky group\")"
      ],
      "metadata": {
        "colab": {
          "base_uri": "https://localhost:8080/"
        },
        "id": "MbAUNHGAYV7K",
        "outputId": "fdecb927-53fa-491a-fb73-c3386b97651c"
      },
      "execution_count": 39,
      "outputs": [
        {
          "output_type": "stream",
          "name": "stdout",
          "text": [
            "65\n",
            "Do you have a chronic condition?no\n",
            "Is your immune system weak?no\n",
            "\u001b You are in risky group\n"
          ]
        }
      ]
    },
    {
      "cell_type": "code",
      "source": [
        "age = input('Are you a cigarette smoker older than 75 years?  True or False')\n",
        "chronic = input('Do you have a chronic condition?  True or False' )\n",
        "immune = input('Do you have a weak immune system?  True or False' )\n",
        "\n",
        "risk_of_death = age ==\"True\" or chronic == \"True\" or immune == \"True\"\n",
        "if risk_of_death == True:\n",
        "         print(\"You are in risky group\")\n",
        "else:\n",
        "        print(\"You are not in risky group\")"
      ],
      "metadata": {
        "colab": {
          "base_uri": "https://localhost:8080/"
        },
        "id": "V0M9prBscXAf",
        "outputId": "ecf6b088-eceb-4c3c-f3cc-376d88703bdd"
      },
      "execution_count": 47,
      "outputs": [
        {
          "output_type": "stream",
          "name": "stdout",
          "text": [
            "Are you a cigarette smoker older than 75 years?  True or FalseFalse\n",
            "Do you have a chronic condition?  True or FalseFalse\n",
            "Do you have a weak immune system?  True or FalseFalse\n",
            "You are not in risky group\n"
          ]
        }
      ]
    }
  ]
}