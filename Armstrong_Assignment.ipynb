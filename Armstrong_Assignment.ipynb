{
  "nbformat": 4,
  "nbformat_minor": 0,
  "metadata": {
    "colab": {
      "name": "Armstrong Assignment.ipynb",
      "provenance": [],
      "collapsed_sections": [],
      "authorship_tag": "ABX9TyPIblide+6vrPXGVejpLGb9",
      "include_colab_link": true
    },
    "kernelspec": {
      "name": "python3",
      "display_name": "Python 3"
    },
    "language_info": {
      "name": "python"
    }
  },
  "cells": [
    {
      "cell_type": "markdown",
      "metadata": {
        "id": "view-in-github",
        "colab_type": "text"
      },
      "source": [
        "<a href=\"https://colab.research.google.com/github/TMManyau/CBasic/blob/master/Armstrong_Assignment.ipynb\" target=\"_parent\"><img src=\"https://colab.research.google.com/assets/colab-badge.svg\" alt=\"Open In Colab\"/></a>"
      ]
    },
    {
      "cell_type": "code",
      "execution_count": 1,
      "metadata": {
        "colab": {
          "base_uri": "https://localhost:8080/"
        },
        "id": "adov_Oy7vGmV",
        "outputId": "91e71cc4-1bee-4abe-c2b7-ab15d584e1ca"
      },
      "outputs": [
        {
          "output_type": "stream",
          "name": "stdout",
          "text": [
            "Please enter an integer number: 407\n",
            "407 is an Armstrong number\n"
          ]
        }
      ],
      "source": [
        "number = input(\"Please enter an integer number: \")\n",
        "power = len(number)\n",
        "sunoc = 0\n",
        "if number.startswith(\"-\") or \".\" in number or \",\" in number or (not number.isdigit()):\n",
        "    print(\"It is an invalid entry. Don't use non-numeric, float, or negative values!\")\n",
        "else:\n",
        "    for i in number:\n",
        "        sunoc += int(i) ** power\n",
        "    if int(number) == sunoc:\n",
        "        print(number + \" is an Armstrong number\")\n",
        "    else:\n",
        "        print(number + \" is not an Armstrong number\")"
      ]
    }
  ]
}